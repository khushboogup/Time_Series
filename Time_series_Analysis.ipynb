{
  "nbformat": 4,
  "nbformat_minor": 0,
  "metadata": {
    "colab": {
      "provenance": []
    },
    "kernelspec": {
      "name": "python3",
      "display_name": "Python 3"
    },
    "language_info": {
      "name": "python"
    }
  },
  "cells": [
    {
      "cell_type": "code",
      "execution_count": 1,
      "metadata": {
        "id": "Rx0RA-8n39EV"
      },
      "outputs": [],
      "source": [
        "import pandas as pd\n",
        "df=pd.read_csv('nifty.csv')"
      ]
    },
    {
      "cell_type": "code",
      "source": [
        "df.head()"
      ],
      "metadata": {
        "colab": {
          "base_uri": "https://localhost:8080/",
          "height": 445
        },
        "id": "7DbR1YmF4sFl",
        "outputId": "fd49e548-d046-41bd-839d-220e61aa0eb2"
      },
      "execution_count": 2,
      "outputs": [
        {
          "output_type": "execute_result",
          "data": {
            "text/plain": [
              "    Symbol   Series         Date    Prev Close    Open Price    High Price    \\\n",
              "0  NIFTYBEES       EQ  22-May-2023        199.82        200.49        200.93   \n",
              "1  NIFTYBEES       EQ  23-May-2023        200.74        200.05        201.70   \n",
              "2  NIFTYBEES       EQ  24-May-2023        201.02        201.49        201.50   \n",
              "3  NIFTYBEES       EQ  25-May-2023        200.24        200.95        200.95   \n",
              "4  NIFTYBEES       EQ  26-May-2023        200.70        201.89        203.27   \n",
              "\n",
              "   Low Price    Last Price    Close Price    Average Price   \\\n",
              "0       199.05        200.70         200.74          200.52   \n",
              "1       200.05        200.90         201.02          201.33   \n",
              "2       199.81        200.49         200.24          200.71   \n",
              "3       199.26        200.94         200.70          200.04   \n",
              "4       200.05        203.05         202.85          202.21   \n",
              "\n",
              "  Total Traded Quantity       Turnover ₹   No. of Trades   Deliverable Qty    \\\n",
              "0               23,30,996  46,74,12,862.50          27,646         15,44,192   \n",
              "1               26,12,792  52,60,32,927.63          20,817         19,24,894   \n",
              "2               24,13,489  48,44,03,871.10          20,505         13,34,548   \n",
              "3               28,91,537  57,84,36,766.15          23,699         18,75,895   \n",
              "4               46,84,612  94,72,63,264.57          31,451         31,72,570   \n",
              "\n",
              "   % Dly Qt to Traded Qty    \n",
              "0                     66.25  \n",
              "1                     73.67  \n",
              "2                     55.30  \n",
              "3                     64.88  \n",
              "4                     67.72  "
            ],
            "text/html": [
              "\n",
              "  <div id=\"df-227edc43-355a-47b4-8f7d-274832690e9d\" class=\"colab-df-container\">\n",
              "    <div>\n",
              "<style scoped>\n",
              "    .dataframe tbody tr th:only-of-type {\n",
              "        vertical-align: middle;\n",
              "    }\n",
              "\n",
              "    .dataframe tbody tr th {\n",
              "        vertical-align: top;\n",
              "    }\n",
              "\n",
              "    .dataframe thead th {\n",
              "        text-align: right;\n",
              "    }\n",
              "</style>\n",
              "<table border=\"1\" class=\"dataframe\">\n",
              "  <thead>\n",
              "    <tr style=\"text-align: right;\">\n",
              "      <th></th>\n",
              "      <th>Symbol</th>\n",
              "      <th>Series</th>\n",
              "      <th>Date</th>\n",
              "      <th>Prev Close</th>\n",
              "      <th>Open Price</th>\n",
              "      <th>High Price</th>\n",
              "      <th>Low Price</th>\n",
              "      <th>Last Price</th>\n",
              "      <th>Close Price</th>\n",
              "      <th>Average Price</th>\n",
              "      <th>Total Traded Quantity</th>\n",
              "      <th>Turnover ₹</th>\n",
              "      <th>No. of Trades</th>\n",
              "      <th>Deliverable Qty</th>\n",
              "      <th>% Dly Qt to Traded Qty</th>\n",
              "    </tr>\n",
              "  </thead>\n",
              "  <tbody>\n",
              "    <tr>\n",
              "      <th>0</th>\n",
              "      <td>NIFTYBEES</td>\n",
              "      <td>EQ</td>\n",
              "      <td>22-May-2023</td>\n",
              "      <td>199.82</td>\n",
              "      <td>200.49</td>\n",
              "      <td>200.93</td>\n",
              "      <td>199.05</td>\n",
              "      <td>200.70</td>\n",
              "      <td>200.74</td>\n",
              "      <td>200.52</td>\n",
              "      <td>23,30,996</td>\n",
              "      <td>46,74,12,862.50</td>\n",
              "      <td>27,646</td>\n",
              "      <td>15,44,192</td>\n",
              "      <td>66.25</td>\n",
              "    </tr>\n",
              "    <tr>\n",
              "      <th>1</th>\n",
              "      <td>NIFTYBEES</td>\n",
              "      <td>EQ</td>\n",
              "      <td>23-May-2023</td>\n",
              "      <td>200.74</td>\n",
              "      <td>200.05</td>\n",
              "      <td>201.70</td>\n",
              "      <td>200.05</td>\n",
              "      <td>200.90</td>\n",
              "      <td>201.02</td>\n",
              "      <td>201.33</td>\n",
              "      <td>26,12,792</td>\n",
              "      <td>52,60,32,927.63</td>\n",
              "      <td>20,817</td>\n",
              "      <td>19,24,894</td>\n",
              "      <td>73.67</td>\n",
              "    </tr>\n",
              "    <tr>\n",
              "      <th>2</th>\n",
              "      <td>NIFTYBEES</td>\n",
              "      <td>EQ</td>\n",
              "      <td>24-May-2023</td>\n",
              "      <td>201.02</td>\n",
              "      <td>201.49</td>\n",
              "      <td>201.50</td>\n",
              "      <td>199.81</td>\n",
              "      <td>200.49</td>\n",
              "      <td>200.24</td>\n",
              "      <td>200.71</td>\n",
              "      <td>24,13,489</td>\n",
              "      <td>48,44,03,871.10</td>\n",
              "      <td>20,505</td>\n",
              "      <td>13,34,548</td>\n",
              "      <td>55.30</td>\n",
              "    </tr>\n",
              "    <tr>\n",
              "      <th>3</th>\n",
              "      <td>NIFTYBEES</td>\n",
              "      <td>EQ</td>\n",
              "      <td>25-May-2023</td>\n",
              "      <td>200.24</td>\n",
              "      <td>200.95</td>\n",
              "      <td>200.95</td>\n",
              "      <td>199.26</td>\n",
              "      <td>200.94</td>\n",
              "      <td>200.70</td>\n",
              "      <td>200.04</td>\n",
              "      <td>28,91,537</td>\n",
              "      <td>57,84,36,766.15</td>\n",
              "      <td>23,699</td>\n",
              "      <td>18,75,895</td>\n",
              "      <td>64.88</td>\n",
              "    </tr>\n",
              "    <tr>\n",
              "      <th>4</th>\n",
              "      <td>NIFTYBEES</td>\n",
              "      <td>EQ</td>\n",
              "      <td>26-May-2023</td>\n",
              "      <td>200.70</td>\n",
              "      <td>201.89</td>\n",
              "      <td>203.27</td>\n",
              "      <td>200.05</td>\n",
              "      <td>203.05</td>\n",
              "      <td>202.85</td>\n",
              "      <td>202.21</td>\n",
              "      <td>46,84,612</td>\n",
              "      <td>94,72,63,264.57</td>\n",
              "      <td>31,451</td>\n",
              "      <td>31,72,570</td>\n",
              "      <td>67.72</td>\n",
              "    </tr>\n",
              "  </tbody>\n",
              "</table>\n",
              "</div>\n",
              "    <div class=\"colab-df-buttons\">\n",
              "\n",
              "  <div class=\"colab-df-container\">\n",
              "    <button class=\"colab-df-convert\" onclick=\"convertToInteractive('df-227edc43-355a-47b4-8f7d-274832690e9d')\"\n",
              "            title=\"Convert this dataframe to an interactive table.\"\n",
              "            style=\"display:none;\">\n",
              "\n",
              "  <svg xmlns=\"http://www.w3.org/2000/svg\" height=\"24px\" viewBox=\"0 -960 960 960\">\n",
              "    <path d=\"M120-120v-720h720v720H120Zm60-500h600v-160H180v160Zm220 220h160v-160H400v160Zm0 220h160v-160H400v160ZM180-400h160v-160H180v160Zm440 0h160v-160H620v160ZM180-180h160v-160H180v160Zm440 0h160v-160H620v160Z\"/>\n",
              "  </svg>\n",
              "    </button>\n",
              "\n",
              "  <style>\n",
              "    .colab-df-container {\n",
              "      display:flex;\n",
              "      gap: 12px;\n",
              "    }\n",
              "\n",
              "    .colab-df-convert {\n",
              "      background-color: #E8F0FE;\n",
              "      border: none;\n",
              "      border-radius: 50%;\n",
              "      cursor: pointer;\n",
              "      display: none;\n",
              "      fill: #1967D2;\n",
              "      height: 32px;\n",
              "      padding: 0 0 0 0;\n",
              "      width: 32px;\n",
              "    }\n",
              "\n",
              "    .colab-df-convert:hover {\n",
              "      background-color: #E2EBFA;\n",
              "      box-shadow: 0px 1px 2px rgba(60, 64, 67, 0.3), 0px 1px 3px 1px rgba(60, 64, 67, 0.15);\n",
              "      fill: #174EA6;\n",
              "    }\n",
              "\n",
              "    .colab-df-buttons div {\n",
              "      margin-bottom: 4px;\n",
              "    }\n",
              "\n",
              "    [theme=dark] .colab-df-convert {\n",
              "      background-color: #3B4455;\n",
              "      fill: #D2E3FC;\n",
              "    }\n",
              "\n",
              "    [theme=dark] .colab-df-convert:hover {\n",
              "      background-color: #434B5C;\n",
              "      box-shadow: 0px 1px 3px 1px rgba(0, 0, 0, 0.15);\n",
              "      filter: drop-shadow(0px 1px 2px rgba(0, 0, 0, 0.3));\n",
              "      fill: #FFFFFF;\n",
              "    }\n",
              "  </style>\n",
              "\n",
              "    <script>\n",
              "      const buttonEl =\n",
              "        document.querySelector('#df-227edc43-355a-47b4-8f7d-274832690e9d button.colab-df-convert');\n",
              "      buttonEl.style.display =\n",
              "        google.colab.kernel.accessAllowed ? 'block' : 'none';\n",
              "\n",
              "      async function convertToInteractive(key) {\n",
              "        const element = document.querySelector('#df-227edc43-355a-47b4-8f7d-274832690e9d');\n",
              "        const dataTable =\n",
              "          await google.colab.kernel.invokeFunction('convertToInteractive',\n",
              "                                                    [key], {});\n",
              "        if (!dataTable) return;\n",
              "\n",
              "        const docLinkHtml = 'Like what you see? Visit the ' +\n",
              "          '<a target=\"_blank\" href=https://colab.research.google.com/notebooks/data_table.ipynb>data table notebook</a>'\n",
              "          + ' to learn more about interactive tables.';\n",
              "        element.innerHTML = '';\n",
              "        dataTable['output_type'] = 'display_data';\n",
              "        await google.colab.output.renderOutput(dataTable, element);\n",
              "        const docLink = document.createElement('div');\n",
              "        docLink.innerHTML = docLinkHtml;\n",
              "        element.appendChild(docLink);\n",
              "      }\n",
              "    </script>\n",
              "  </div>\n",
              "\n",
              "\n",
              "<div id=\"df-7085fe91-6e0c-455e-930f-43505309a462\">\n",
              "  <button class=\"colab-df-quickchart\" onclick=\"quickchart('df-7085fe91-6e0c-455e-930f-43505309a462')\"\n",
              "            title=\"Suggest charts\"\n",
              "            style=\"display:none;\">\n",
              "\n",
              "<svg xmlns=\"http://www.w3.org/2000/svg\" height=\"24px\"viewBox=\"0 0 24 24\"\n",
              "     width=\"24px\">\n",
              "    <g>\n",
              "        <path d=\"M19 3H5c-1.1 0-2 .9-2 2v14c0 1.1.9 2 2 2h14c1.1 0 2-.9 2-2V5c0-1.1-.9-2-2-2zM9 17H7v-7h2v7zm4 0h-2V7h2v10zm4 0h-2v-4h2v4z\"/>\n",
              "    </g>\n",
              "</svg>\n",
              "  </button>\n",
              "\n",
              "<style>\n",
              "  .colab-df-quickchart {\n",
              "      --bg-color: #E8F0FE;\n",
              "      --fill-color: #1967D2;\n",
              "      --hover-bg-color: #E2EBFA;\n",
              "      --hover-fill-color: #174EA6;\n",
              "      --disabled-fill-color: #AAA;\n",
              "      --disabled-bg-color: #DDD;\n",
              "  }\n",
              "\n",
              "  [theme=dark] .colab-df-quickchart {\n",
              "      --bg-color: #3B4455;\n",
              "      --fill-color: #D2E3FC;\n",
              "      --hover-bg-color: #434B5C;\n",
              "      --hover-fill-color: #FFFFFF;\n",
              "      --disabled-bg-color: #3B4455;\n",
              "      --disabled-fill-color: #666;\n",
              "  }\n",
              "\n",
              "  .colab-df-quickchart {\n",
              "    background-color: var(--bg-color);\n",
              "    border: none;\n",
              "    border-radius: 50%;\n",
              "    cursor: pointer;\n",
              "    display: none;\n",
              "    fill: var(--fill-color);\n",
              "    height: 32px;\n",
              "    padding: 0;\n",
              "    width: 32px;\n",
              "  }\n",
              "\n",
              "  .colab-df-quickchart:hover {\n",
              "    background-color: var(--hover-bg-color);\n",
              "    box-shadow: 0 1px 2px rgba(60, 64, 67, 0.3), 0 1px 3px 1px rgba(60, 64, 67, 0.15);\n",
              "    fill: var(--button-hover-fill-color);\n",
              "  }\n",
              "\n",
              "  .colab-df-quickchart-complete:disabled,\n",
              "  .colab-df-quickchart-complete:disabled:hover {\n",
              "    background-color: var(--disabled-bg-color);\n",
              "    fill: var(--disabled-fill-color);\n",
              "    box-shadow: none;\n",
              "  }\n",
              "\n",
              "  .colab-df-spinner {\n",
              "    border: 2px solid var(--fill-color);\n",
              "    border-color: transparent;\n",
              "    border-bottom-color: var(--fill-color);\n",
              "    animation:\n",
              "      spin 1s steps(1) infinite;\n",
              "  }\n",
              "\n",
              "  @keyframes spin {\n",
              "    0% {\n",
              "      border-color: transparent;\n",
              "      border-bottom-color: var(--fill-color);\n",
              "      border-left-color: var(--fill-color);\n",
              "    }\n",
              "    20% {\n",
              "      border-color: transparent;\n",
              "      border-left-color: var(--fill-color);\n",
              "      border-top-color: var(--fill-color);\n",
              "    }\n",
              "    30% {\n",
              "      border-color: transparent;\n",
              "      border-left-color: var(--fill-color);\n",
              "      border-top-color: var(--fill-color);\n",
              "      border-right-color: var(--fill-color);\n",
              "    }\n",
              "    40% {\n",
              "      border-color: transparent;\n",
              "      border-right-color: var(--fill-color);\n",
              "      border-top-color: var(--fill-color);\n",
              "    }\n",
              "    60% {\n",
              "      border-color: transparent;\n",
              "      border-right-color: var(--fill-color);\n",
              "    }\n",
              "    80% {\n",
              "      border-color: transparent;\n",
              "      border-right-color: var(--fill-color);\n",
              "      border-bottom-color: var(--fill-color);\n",
              "    }\n",
              "    90% {\n",
              "      border-color: transparent;\n",
              "      border-bottom-color: var(--fill-color);\n",
              "    }\n",
              "  }\n",
              "</style>\n",
              "\n",
              "  <script>\n",
              "    async function quickchart(key) {\n",
              "      const quickchartButtonEl =\n",
              "        document.querySelector('#' + key + ' button');\n",
              "      quickchartButtonEl.disabled = true;  // To prevent multiple clicks.\n",
              "      quickchartButtonEl.classList.add('colab-df-spinner');\n",
              "      try {\n",
              "        const charts = await google.colab.kernel.invokeFunction(\n",
              "            'suggestCharts', [key], {});\n",
              "      } catch (error) {\n",
              "        console.error('Error during call to suggestCharts:', error);\n",
              "      }\n",
              "      quickchartButtonEl.classList.remove('colab-df-spinner');\n",
              "      quickchartButtonEl.classList.add('colab-df-quickchart-complete');\n",
              "    }\n",
              "    (() => {\n",
              "      let quickchartButtonEl =\n",
              "        document.querySelector('#df-7085fe91-6e0c-455e-930f-43505309a462 button');\n",
              "      quickchartButtonEl.style.display =\n",
              "        google.colab.kernel.accessAllowed ? 'block' : 'none';\n",
              "    })();\n",
              "  </script>\n",
              "</div>\n",
              "\n",
              "    </div>\n",
              "  </div>\n"
            ],
            "application/vnd.google.colaboratory.intrinsic+json": {
              "type": "dataframe",
              "variable_name": "df",
              "summary": "{\n  \"name\": \"df\",\n  \"rows\": 249,\n  \"fields\": [\n    {\n      \"column\": \"Symbol  \",\n      \"properties\": {\n        \"dtype\": \"category\",\n        \"num_unique_values\": 1,\n        \"samples\": [\n          \"NIFTYBEES\"\n        ],\n        \"semantic_type\": \"\",\n        \"description\": \"\"\n      }\n    },\n    {\n      \"column\": \"Series  \",\n      \"properties\": {\n        \"dtype\": \"category\",\n        \"num_unique_values\": 1,\n        \"samples\": [\n          \"EQ\"\n        ],\n        \"semantic_type\": \"\",\n        \"description\": \"\"\n      }\n    },\n    {\n      \"column\": \"Date  \",\n      \"properties\": {\n        \"dtype\": \"string\",\n        \"num_unique_values\": 249,\n        \"samples\": [\n          \"07-Dec-2023\"\n        ],\n        \"semantic_type\": \"\",\n        \"description\": \"\"\n      }\n    },\n    {\n      \"column\": \"Prev Close  \",\n      \"properties\": {\n        \"dtype\": \"number\",\n        \"std\": 15.580812667840389,\n        \"min\": 199.82,\n        \"max\": 251.57,\n        \"num_unique_values\": 244,\n        \"samples\": [\n          206.24\n        ],\n        \"semantic_type\": \"\",\n        \"description\": \"\"\n      }\n    },\n    {\n      \"column\": \"Open Price  \",\n      \"properties\": {\n        \"dtype\": \"number\",\n        \"std\": 15.550296766550426,\n        \"min\": 200.05,\n        \"max\": 254.69,\n        \"num_unique_values\": 199,\n        \"samples\": [\n          224.45\n        ],\n        \"semantic_type\": \"\",\n        \"description\": \"\"\n      }\n    },\n    {\n      \"column\": \"High Price  \",\n      \"properties\": {\n        \"dtype\": \"number\",\n        \"std\": 15.583654142035416,\n        \"min\": 200.93,\n        \"max\": 255.0,\n        \"num_unique_values\": 209,\n        \"samples\": [\n          220.4\n        ],\n        \"semantic_type\": \"\",\n        \"description\": \"\"\n      }\n    },\n    {\n      \"column\": \"Low Price  \",\n      \"properties\": {\n        \"dtype\": \"number\",\n        \"std\": 15.551972794333807,\n        \"min\": 199.05,\n        \"max\": 250.38,\n        \"num_unique_values\": 222,\n        \"samples\": [\n          237.65\n        ],\n        \"semantic_type\": \"\",\n        \"description\": \"\"\n      }\n    },\n    {\n      \"column\": \"Last Price  \",\n      \"properties\": {\n        \"dtype\": \"number\",\n        \"std\": 15.56480060015235,\n        \"min\": 200.49,\n        \"max\": 251.49,\n        \"num_unique_values\": 227,\n        \"samples\": [\n          203.75\n        ],\n        \"semantic_type\": \"\",\n        \"description\": \"\"\n      }\n    },\n    {\n      \"column\": \"Close Price  \",\n      \"properties\": {\n        \"dtype\": \"number\",\n        \"std\": 15.553996174646144,\n        \"min\": 200.24,\n        \"max\": 251.57,\n        \"num_unique_values\": 244,\n        \"samples\": [\n          204.98\n        ],\n        \"semantic_type\": \"\",\n        \"description\": \"\"\n      }\n    },\n    {\n      \"column\": \"Average Price \",\n      \"properties\": {\n        \"dtype\": \"number\",\n        \"std\": 15.542439786451844,\n        \"min\": 200.04,\n        \"max\": 251.23,\n        \"num_unique_values\": 235,\n        \"samples\": [\n          213.05\n        ],\n        \"semantic_type\": \"\",\n        \"description\": \"\"\n      }\n    },\n    {\n      \"column\": \"Total Traded Quantity  \",\n      \"properties\": {\n        \"dtype\": \"string\",\n        \"num_unique_values\": 249,\n        \"samples\": [\n          \"28,82,798\"\n        ],\n        \"semantic_type\": \"\",\n        \"description\": \"\"\n      }\n    },\n    {\n      \"column\": \"Turnover \\u20b9  \",\n      \"properties\": {\n        \"dtype\": \"string\",\n        \"num_unique_values\": 249,\n        \"samples\": [\n          \"66,54,16,430.45\"\n        ],\n        \"semantic_type\": \"\",\n        \"description\": \"\"\n      }\n    },\n    {\n      \"column\": \"No. of Trades  \",\n      \"properties\": {\n        \"dtype\": \"string\",\n        \"num_unique_values\": 248,\n        \"samples\": [\n          \"38,344\"\n        ],\n        \"semantic_type\": \"\",\n        \"description\": \"\"\n      }\n    },\n    {\n      \"column\": \"Deliverable Qty  \",\n      \"properties\": {\n        \"dtype\": \"string\",\n        \"num_unique_values\": 249,\n        \"samples\": [\n          \"20,59,209\"\n        ],\n        \"semantic_type\": \"\",\n        \"description\": \"\"\n      }\n    },\n    {\n      \"column\": \"% Dly Qt to Traded Qty  \",\n      \"properties\": {\n        \"dtype\": \"number\",\n        \"std\": 8.39490477312044,\n        \"min\": 45.94,\n        \"max\": 87.93,\n        \"num_unique_values\": 238,\n        \"samples\": [\n          72.14\n        ],\n        \"semantic_type\": \"\",\n        \"description\": \"\"\n      }\n    }\n  ]\n}"
            }
          },
          "metadata": {},
          "execution_count": 2
        }
      ]
    },
    {
      "cell_type": "code",
      "source": [
        "df.shape"
      ],
      "metadata": {
        "colab": {
          "base_uri": "https://localhost:8080/"
        },
        "id": "lqCKwfFx6kr2",
        "outputId": "8b94f90d-ad71-4931-d5c4-f99981c0c94b"
      },
      "execution_count": 3,
      "outputs": [
        {
          "output_type": "execute_result",
          "data": {
            "text/plain": [
              "(249, 15)"
            ]
          },
          "metadata": {},
          "execution_count": 3
        }
      ]
    },
    {
      "cell_type": "code",
      "source": [
        "df.info()"
      ],
      "metadata": {
        "colab": {
          "base_uri": "https://localhost:8080/"
        },
        "id": "4MRUCZSg7bGA",
        "outputId": "0705e9ca-8e1a-4cce-c79d-0d92cf3a094a"
      },
      "execution_count": 4,
      "outputs": [
        {
          "output_type": "stream",
          "name": "stdout",
          "text": [
            "<class 'pandas.core.frame.DataFrame'>\n",
            "RangeIndex: 249 entries, 0 to 248\n",
            "Data columns (total 15 columns):\n",
            " #   Column                    Non-Null Count  Dtype  \n",
            "---  ------                    --------------  -----  \n",
            " 0   Symbol                    249 non-null    object \n",
            " 1   Series                    249 non-null    object \n",
            " 2   Date                      249 non-null    object \n",
            " 3   Prev Close                249 non-null    float64\n",
            " 4   Open Price                249 non-null    float64\n",
            " 5   High Price                249 non-null    float64\n",
            " 6   Low Price                 249 non-null    float64\n",
            " 7   Last Price                249 non-null    float64\n",
            " 8   Close Price               249 non-null    float64\n",
            " 9   Average Price             249 non-null    float64\n",
            " 10  Total Traded Quantity     249 non-null    object \n",
            " 11  Turnover ₹                249 non-null    object \n",
            " 12  No. of Trades             249 non-null    object \n",
            " 13  Deliverable Qty           249 non-null    object \n",
            " 14  % Dly Qt to Traded Qty    249 non-null    float64\n",
            "dtypes: float64(8), object(7)\n",
            "memory usage: 29.3+ KB\n"
          ]
        }
      ]
    },
    {
      "cell_type": "code",
      "source": [
        "df.columns"
      ],
      "metadata": {
        "colab": {
          "base_uri": "https://localhost:8080/"
        },
        "id": "MbbarPDO7iu-",
        "outputId": "4e2add49-e5c5-49b1-f3a4-f6d2b7b399cc"
      },
      "execution_count": 5,
      "outputs": [
        {
          "output_type": "execute_result",
          "data": {
            "text/plain": [
              "Index(['Symbol  ', 'Series  ', 'Date  ', 'Prev Close  ', 'Open Price  ',\n",
              "       'High Price  ', 'Low Price  ', 'Last Price  ', 'Close Price  ',\n",
              "       'Average Price ', 'Total Traded Quantity  ', 'Turnover ₹  ',\n",
              "       'No. of Trades  ', 'Deliverable Qty  ', '% Dly Qt to Traded Qty  '],\n",
              "      dtype='object')"
            ]
          },
          "metadata": {},
          "execution_count": 5
        }
      ]
    },
    {
      "cell_type": "code",
      "source": [
        "df.columns=[col.strip() for col in df.columns]"
      ],
      "metadata": {
        "id": "HboIvjM5_fcv"
      },
      "execution_count": 6,
      "outputs": []
    },
    {
      "cell_type": "code",
      "source": [
        "df.columns"
      ],
      "metadata": {
        "colab": {
          "base_uri": "https://localhost:8080/"
        },
        "id": "nHE6Ax1mAYSc",
        "outputId": "d92004ab-1d78-4c1a-c316-739104a37023"
      },
      "execution_count": 7,
      "outputs": [
        {
          "output_type": "execute_result",
          "data": {
            "text/plain": [
              "Index(['Symbol', 'Series', 'Date', 'Prev Close', 'Open Price', 'High Price',\n",
              "       'Low Price', 'Last Price', 'Close Price', 'Average Price',\n",
              "       'Total Traded Quantity', 'Turnover ₹', 'No. of Trades',\n",
              "       'Deliverable Qty', '% Dly Qt to Traded Qty'],\n",
              "      dtype='object')"
            ]
          },
          "metadata": {},
          "execution_count": 7
        }
      ]
    },
    {
      "cell_type": "code",
      "source": [
        "df['Date'] = pd.to_datetime(df['Date'], format='mixed')"
      ],
      "metadata": {
        "id": "HmYAck-Q9u3o"
      },
      "execution_count": 8,
      "outputs": []
    },
    {
      "cell_type": "code",
      "source": [
        "df.info()"
      ],
      "metadata": {
        "colab": {
          "base_uri": "https://localhost:8080/"
        },
        "id": "H8_Kn5nO_Scc",
        "outputId": "3cdcddb9-7e7c-4cd3-cec1-d156a2b16ee1"
      },
      "execution_count": 9,
      "outputs": [
        {
          "output_type": "stream",
          "name": "stdout",
          "text": [
            "<class 'pandas.core.frame.DataFrame'>\n",
            "RangeIndex: 249 entries, 0 to 248\n",
            "Data columns (total 15 columns):\n",
            " #   Column                  Non-Null Count  Dtype         \n",
            "---  ------                  --------------  -----         \n",
            " 0   Symbol                  249 non-null    object        \n",
            " 1   Series                  249 non-null    object        \n",
            " 2   Date                    249 non-null    datetime64[ns]\n",
            " 3   Prev Close              249 non-null    float64       \n",
            " 4   Open Price              249 non-null    float64       \n",
            " 5   High Price              249 non-null    float64       \n",
            " 6   Low Price               249 non-null    float64       \n",
            " 7   Last Price              249 non-null    float64       \n",
            " 8   Close Price             249 non-null    float64       \n",
            " 9   Average Price           249 non-null    float64       \n",
            " 10  Total Traded Quantity   249 non-null    object        \n",
            " 11  Turnover ₹              249 non-null    object        \n",
            " 12  No. of Trades           249 non-null    object        \n",
            " 13  Deliverable Qty         249 non-null    object        \n",
            " 14  % Dly Qt to Traded Qty  249 non-null    float64       \n",
            "dtypes: datetime64[ns](1), float64(8), object(6)\n",
            "memory usage: 29.3+ KB\n"
          ]
        }
      ]
    },
    {
      "cell_type": "code",
      "source": [
        "import matplotlib.pyplot as plt\n",
        "plt.plot(df['Date'],df['Close Price'],label='Close Price')\n",
        "plt.grid(True)\n",
        "plt.show()"
      ],
      "metadata": {
        "colab": {
          "base_uri": "https://localhost:8080/",
          "height": 430
        },
        "id": "pL7AXAZ4DiVb",
        "outputId": "ddc686a4-2d93-40f3-e624-8e626dcb4dd6"
      },
      "execution_count": 10,
      "outputs": [
        {
          "output_type": "display_data",
          "data": {
            "text/plain": [
              "<Figure size 640x480 with 1 Axes>"
            ],
            "image/png": "[encoded data removed]"
          },
          "metadata": {}
        }
      ]
    },
    {
      "cell_type": "code",
      "source": [
        "col=['Total Traded Quantity','Turnover ₹','No. of Trades','Deliverable Qty']\n",
        "df[col]=df[col].apply(lambda x:x.str.replace(',','').astype('float'))"
      ],
      "metadata": {
        "id": "PSiYszW86qTG"
      },
      "execution_count": 11,
      "outputs": []
    },
    {
      "cell_type": "code",
      "source": [
        "df.info()"
      ],
      "metadata": {
        "colab": {
          "base_uri": "https://localhost:8080/"
        },
        "id": "69hDadZkCPCL",
        "outputId": "9be67cdc-9dd6-4a5e-a551-106d2f4c3761"
      },
      "execution_count": 12,
      "outputs": [
        {
          "output_type": "stream",
          "name": "stdout",
          "text": [
            "<class 'pandas.core.frame.DataFrame'>\n",
            "RangeIndex: 249 entries, 0 to 248\n",
            "Data columns (total 15 columns):\n",
            " #   Column                  Non-Null Count  Dtype         \n",
            "---  ------                  --------------  -----         \n",
            " 0   Symbol                  249 non-null    object        \n",
            " 1   Series                  249 non-null    object        \n",
            " 2   Date                    249 non-null    datetime64[ns]\n",
            " 3   Prev Close              249 non-null    float64       \n",
            " 4   Open Price              249 non-null    float64       \n",
            " 5   High Price              249 non-null    float64       \n",
            " 6   Low Price               249 non-null    float64       \n",
            " 7   Last Price              249 non-null    float64       \n",
            " 8   Close Price             249 non-null    float64       \n",
            " 9   Average Price           249 non-null    float64       \n",
            " 10  Total Traded Quantity   249 non-null    float64       \n",
            " 11  Turnover ₹              249 non-null    float64       \n",
            " 12  No. of Trades           249 non-null    float64       \n",
            " 13  Deliverable Qty         249 non-null    float64       \n",
            " 14  % Dly Qt to Traded Qty  249 non-null    float64       \n",
            "dtypes: datetime64[ns](1), float64(12), object(2)\n",
            "memory usage: 29.3+ KB\n"
          ]
        }
      ]
    },
    {
      "cell_type": "code",
      "source": [
        "import seaborn as sns\n",
        "plt.figure(figsize=(12,8))\n",
        "sns.heatmap(df.select_dtypes(exclude='object').corr())"
      ],
      "metadata": {
        "colab": {
          "base_uri": "https://localhost:8080/",
          "height": 845
        },
        "id": "nfQm9vR4CU2m",
        "outputId": "bafce893-b885-4dfa-fb3c-f24b4c234ff0"
      },
      "execution_count": 13,
      "outputs": [
        {
          "output_type": "execute_result",
          "data": {
            "text/plain": [
              "<Axes: >"
            ]
          },
          "metadata": {},
          "execution_count": 13
        },
        {
          "output_type": "display_data",
          "data": {
            "text/plain": [
              "<Figure size 1200x800 with 2 Axes>"
            ],
            "image/png": "[encoded data removed]"
          },
          "metadata": {}
        }
      ]
    },
    {
      "cell_type": "code",
      "source": [
        "!pip install statsmodels"
      ],
      "metadata": {
        "colab": {
          "base_uri": "https://localhost:8080/"
        },
        "id": "xwKnAYlmut8o",
        "outputId": "726211e6-1cbe-4c37-a3cd-63f2ccc60c1f"
      },
      "execution_count": 15,
      "outputs": [
        {
          "output_type": "stream",
          "name": "stdout",
          "text": [
            "Requirement already satisfied: statsmodels in /usr/local/lib/python3.10/dist-packages (0.14.2)\n",
            "Requirement already satisfied: numpy>=1.22.3 in /usr/local/lib/python3.10/dist-packages (from statsmodels) (1.25.2)\n",
            "Requirement already satisfied: scipy!=1.9.2,>=1.8 in /usr/local/lib/python3.10/dist-packages (from statsmodels) (1.11.4)\n",
            "Requirement already satisfied: pandas!=2.1.0,>=1.4 in /usr/local/lib/python3.10/dist-packages (from statsmodels) (2.0.3)\n",
            "Requirement already satisfied: patsy>=0.5.6 in /usr/local/lib/python3.10/dist-packages (from statsmodels) (0.5.6)\n",
            "Requirement already satisfied: packaging>=21.3 in /usr/local/lib/python3.10/dist-packages (from statsmodels) (24.0)\n",
            "Requirement already satisfied: python-dateutil>=2.8.2 in /usr/local/lib/python3.10/dist-packages (from pandas!=2.1.0,>=1.4->statsmodels) (2.8.2)\n",
            "Requirement already satisfied: pytz>=2020.1 in /usr/local/lib/python3.10/dist-packages (from pandas!=2.1.0,>=1.4->statsmodels) (2023.4)\n",
            "Requirement already satisfied: tzdata>=2022.1 in /usr/local/lib/python3.10/dist-packages (from pandas!=2.1.0,>=1.4->statsmodels) (2024.1)\n",
            "Requirement already satisfied: six in /usr/local/lib/python3.10/dist-packages (from patsy>=0.5.6->statsmodels) (1.16.0)\n"
          ]
        }
      ]
    },
    {
      "cell_type": "code",
      "source": [
        "from statsmodels.tsa.stattools import adfuller\n",
        "result=adfuller(df['Close Price'],autolag='AIC')"
      ],
      "metadata": {
        "id": "p9LAk8S2yDwn"
      },
      "execution_count": 18,
      "outputs": []
    },
    {
      "cell_type": "code",
      "source": [
        "result"
      ],
      "metadata": {
        "colab": {
          "base_uri": "https://localhost:8080/"
        },
        "id": "Xz3ac21juUNG",
        "outputId": "4c3fe2c5-e208-4201-c1c6-1ad54b0fd9bb"
      },
      "execution_count": 19,
      "outputs": [
        {
          "output_type": "execute_result",
          "data": {
            "text/plain": [
              "(-0.9461054702870949,\n",
              " 0.77241047479083,\n",
              " 0,\n",
              " 248,\n",
              " {'1%': -3.4569962781990573,\n",
              "  '5%': -2.8732659015936024,\n",
              "  '10%': -2.573018897632674},\n",
              " 816.4536271926806)"
            ]
          },
          "metadata": {},
          "execution_count": 19
        }
      ]
    },
    {
      "cell_type": "code",
      "source": [],
      "metadata": {
        "id": "pvSLhf2nu-rM"
      },
      "execution_count": null,
      "outputs": []
    }
  ]
}